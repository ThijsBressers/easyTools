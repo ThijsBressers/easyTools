{
 "cells": [
  {
   "cell_type": "heading",
   "metadata": {},
   "level": 1,
   "source": [
    "Google Distance Matrix API - Help Tool"
   ]
  },
  {
   "cell_type": "code",
   "execution_count": 17,
   "metadata": {},
   "outputs": [],
   "source": [
    "GoogleApiCode = \n",
    "LocatieCombis = \\\n"
   ]
  },
  {
   "cell_type": "code",
   "execution_count": 25,
   "metadata": {},
   "outputs": [
    {
     "name": "stdout",
     "output_type": "stream",
     "text": [
      "5298CJ;5271NK;5298 CJ Liempde, Netherlands;5271 NK Sint-Michielsgestel, Netherlands;9.664;10.55\n5271NK;5283CJ;5271 NK Sint-Michielsgestel, Netherlands;5283 CJ Boxtel, Netherlands;6.615;11.0\n1013GM;5298CJ;1013 GM Amsterdam, Netherlands;5298 CJ Liempde, Netherlands;111.519;75.81666666666666\n"
     ]
    },
    {
     "name": "stdout",
     "output_type": "stream",
     "text": [
      "5298CJ;1013GM;5298 CJ Liempde, Netherlands;1013 GM Amsterdam, Netherlands;110.332;76.28333333333333\n"
     ]
    }
   ],
   "source": [
    "import googlemaps ; gmaps = googlemaps.Client(key=GoogleApiCode)\n",
    "\n",
    "for l in locaties:\n",
    "    if not l:\n",
    "        break\n",
    "    route = gmaps.distance_matrix(origins=l[0],\n",
    "                                  destinations=l[1],\n",
    "                                  mode=\"driving\",\n",
    "                                  language=\"English\",\n",
    "                                  units=\"metric\")\n",
    "    if route['status'] != 'OK':\n",
    "        continue\n",
    "    res = \"{};{};{};{};{};{}\".format(\n",
    "           l[0], l[1], route['origin_addresses'][0], route['destination_addresses'][0],\n",
    "           route['rows'][0]['elements'][0]['distance']['value'] / 1000,  # distance in KM\n",
    "           route['rows'][0]['elements'][0]['duration']['value'] / 60     # duration in MIN\n",
    "    )\n",
    "    print(res)"
   ]
  }
 ],
 "metadata": {
  "kernelspec": {
   "display_name": "Python 2",
   "language": "python",
   "name": "python2"
  },
  "language_info": {
   "codemirror_mode": {
    "name": "ipython",
    "version": 2
   },
   "file_extension": ".py",
   "mimetype": "text/x-python",
   "name": "python",
   "nbconvert_exporter": "python",
   "pygments_lexer": "ipython2",
   "version": "2.7.6"
  }
 },
 "nbformat": 4,
 "nbformat_minor": 0
}
